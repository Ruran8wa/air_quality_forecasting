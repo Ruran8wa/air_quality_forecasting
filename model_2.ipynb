{
  "nbformat": 4,
  "nbformat_minor": 0,
  "metadata": {
    "colab": {
      "provenance": []
    },
    "kernelspec": {
      "name": "python3",
      "display_name": "Python 3"
    },
    "language_info": {
      "name": "python"
    }
  },
  "cells": [
    {
      "cell_type": "code",
      "execution_count": null,
      "metadata": {
        "id": "M-jtTzHnGMmZ"
      },
      "outputs": [],
      "source": [
        "# === Imports ===\n",
        "import pandas as pd\n",
        "import numpy as np\n",
        "import tensorflow as tf\n",
        "from tensorflow.keras.models import Sequential\n",
        "from tensorflow.keras.layers import LSTM, Dense, Dropout\n",
        "from tensorflow.keras.optimizers import Adam\n",
        "from sklearn.preprocessing import StandardScaler"
      ]
    },
    {
      "cell_type": "code",
      "source": [
        "# Mount Google Drive to access datasets\n",
        "from google.colab import drive\n",
        "drive.mount('/content/drive')"
      ],
      "metadata": {
        "colab": {
          "base_uri": "https://localhost:8080/"
        },
        "id": "OlsI4-c7GQh2",
        "outputId": "be100fc9-f4cf-436b-89b3-ede0da45c680"
      },
      "execution_count": null,
      "outputs": [
        {
          "output_type": "stream",
          "name": "stdout",
          "text": [
            "Drive already mounted at /content/drive; to attempt to forcibly remount, call drive.mount(\"/content/drive\", force_remount=True).\n"
          ]
        }
      ]
    },
    {
      "cell_type": "code",
      "source": [
        "# Load the datasets\n",
        "train = pd.read_csv('/content/drive/MyDrive/Time_Series_Assessment/data/train.csv')\n",
        "test = pd.read_csv('//content/drive/MyDrive/Time_Series_Assessment/data/test.csv')"
      ],
      "metadata": {
        "id": "FspFduVxJWY0"
      },
      "execution_count": null,
      "outputs": []
    },
    {
      "cell_type": "code",
      "source": [
        "train = train.drop(columns=[\"No\"])\n",
        "test = test.drop(columns=[\"No\"])"
      ],
      "metadata": {
        "id": "Lw6Lch0gJeIo"
      },
      "execution_count": null,
      "outputs": []
    },
    {
      "cell_type": "code",
      "source": [
        "# Interpolate missing pm2.5 values\n",
        "train[\"pm2.5\"] = train[\"pm2.5\"].interpolate(method=\"linear\")\n",
        "\n",
        "# Drop any remaining missing pm2.5 values (first rows)\n",
        "train = train.dropna(subset=[\"pm2.5\"]).reset_index(drop=True)"
      ],
      "metadata": {
        "id": "jsSS58XtJfUN"
      },
      "execution_count": null,
      "outputs": []
    },
    {
      "cell_type": "code",
      "source": [
        "train[\"datetime\"] = pd.to_datetime(train[\"datetime\"])\n",
        "test[\"datetime\"] = pd.to_datetime(test[\"datetime\"])\n",
        "\n",
        "print(\"Train shape after cleaning:\", train.shape)\n",
        "print(\"Test shape:\", test.shape)"
      ],
      "metadata": {
        "colab": {
          "base_uri": "https://localhost:8080/"
        },
        "id": "XyLicqORJlIU",
        "outputId": "6a2cf307-4da9-4a90-fadb-d081d6da0546"
      },
      "execution_count": null,
      "outputs": [
        {
          "output_type": "stream",
          "name": "stdout",
          "text": [
            "Train shape after cleaning: (30652, 11)\n",
            "Test shape: (13148, 10)\n"
          ]
        }
      ]
    },
    {
      "cell_type": "code",
      "source": [
        "# Scale features\n",
        "feature_cols = [c for c in train.columns if c not in [\"datetime\", \"pm2.5\"]]\n",
        "feature_scaler = StandardScaler()\n",
        "X_data = feature_scaler.fit_transform(train[feature_cols].values)\n",
        "\n",
        "y_scaler = StandardScaler()\n",
        "y_data = y_scaler.fit_transform(train[[\"pm2.5\"]].values).flatten()"
      ],
      "metadata": {
        "id": "iMhEpfRdMltM"
      },
      "execution_count": null,
      "outputs": []
    },
    {
      "cell_type": "code",
      "source": [
        "SEQ_LEN = 24\n",
        "\n",
        "X_seq, y_seq = [], []\n",
        "for i in range(len(X_data) - SEQ_LEN):\n",
        "    X_seq.append(X_data[i:i+SEQ_LEN])\n",
        "    y_seq.append(y_data[i+SEQ_LEN])\n",
        "\n",
        "X_seq = np.array(X_seq)\n",
        "y_seq = np.array(y_seq)"
      ],
      "metadata": {
        "id": "7Q-NnXhLJopt"
      },
      "execution_count": null,
      "outputs": []
    },
    {
      "cell_type": "code",
      "source": [
        "split_idx = int(len(X_seq) * 0.8)\n",
        "X_train, X_val = X_seq[:split_idx], X_seq[split_idx:]\n",
        "y_train, y_val = y_seq[:split_idx], y_seq[split_idx:]\n",
        "\n",
        "print(\"X_train shape:\", X_train.shape)\n",
        "print(\"X_val shape:\", X_val.shape)"
      ],
      "metadata": {
        "colab": {
          "base_uri": "https://localhost:8080/"
        },
        "id": "l9XjRgpwJreB",
        "outputId": "a3aab390-1c49-4d71-81c2-ac4755c72d9c"
      },
      "execution_count": null,
      "outputs": [
        {
          "output_type": "stream",
          "name": "stdout",
          "text": [
            "X_train shape: (24502, 24, 9)\n",
            "X_val shape: (6126, 24, 9)\n"
          ]
        }
      ]
    },
    {
      "cell_type": "code",
      "source": [
        "#Build LSTM Model\n",
        "model = Sequential([\n",
        "    LSTM(64, return_sequences=True, input_shape=(SEQ_LEN, len(feature_cols))),\n",
        "    Dropout(0.2),\n",
        "    LSTM(32),\n",
        "    Dropout(0.2),\n",
        "    Dense(1)\n",
        "])\n",
        "\n",
        "def rmse(y_true, y_pred):\n",
        "    return tf.sqrt(tf.reduce_mean(tf.square(y_pred - y_true)))\n",
        "\n",
        "model.compile(optimizer=Adam(learning_rate=0.001), loss=\"mse\", metrics=[rmse])"
      ],
      "metadata": {
        "colab": {
          "base_uri": "https://localhost:8080/"
        },
        "id": "PxBcMaWqJwWu",
        "outputId": "3fc92c23-33a9-486b-ec9d-738eb1d643e0"
      },
      "execution_count": null,
      "outputs": [
        {
          "output_type": "stream",
          "name": "stderr",
          "text": [
            "/usr/local/lib/python3.12/dist-packages/keras/src/layers/rnn/rnn.py:199: UserWarning: Do not pass an `input_shape`/`input_dim` argument to a layer. When using Sequential models, prefer using an `Input(shape)` object as the first layer in the model instead.\n",
            "  super().__init__(**kwargs)\n"
          ]
        }
      ]
    },
    {
      "cell_type": "code",
      "source": [
        "history = model.fit(\n",
        "    X_train, y_train,\n",
        "    validation_data=(X_val, y_val),\n",
        "    epochs=10,\n",
        "    batch_size=64,\n",
        "    verbose=1\n",
        ")"
      ],
      "metadata": {
        "colab": {
          "base_uri": "https://localhost:8080/"
        },
        "id": "vt6LgmZ6Kep6",
        "outputId": "2df5febb-a746-4a10-827d-a5429290c8b6"
      },
      "execution_count": null,
      "outputs": [
        {
          "output_type": "stream",
          "name": "stdout",
          "text": [
            "Epoch 1/10\n",
            "\u001b[1m383/383\u001b[0m \u001b[32m━━━━━━━━━━━━━━━━━━━━\u001b[0m\u001b[37m\u001b[0m \u001b[1m17s\u001b[0m 37ms/step - loss: 0.5759 - rmse: 1.0994 - val_loss: 0.7176 - val_rmse: 1.0021\n",
            "Epoch 2/10\n",
            "\u001b[1m383/383\u001b[0m \u001b[32m━━━━━━━━━━━━━━━━━━━━\u001b[0m\u001b[37m\u001b[0m \u001b[1m14s\u001b[0m 37ms/step - loss: 0.4347 - rmse: 1.1585 - val_loss: 0.7586 - val_rmse: 1.0556\n",
            "Epoch 3/10\n",
            "\u001b[1m383/383\u001b[0m \u001b[32m━━━━━━━━━━━━━━━━━━━━\u001b[0m\u001b[37m\u001b[0m \u001b[1m20s\u001b[0m 36ms/step - loss: 0.4032 - rmse: 1.1780 - val_loss: 0.8456 - val_rmse: 1.0835\n",
            "Epoch 4/10\n",
            "\u001b[1m383/383\u001b[0m \u001b[32m━━━━━━━━━━━━━━━━━━━━\u001b[0m\u001b[37m\u001b[0m \u001b[1m20s\u001b[0m 36ms/step - loss: 0.3714 - rmse: 1.1930 - val_loss: 0.7291 - val_rmse: 1.0618\n",
            "Epoch 5/10\n",
            "\u001b[1m383/383\u001b[0m \u001b[32m━━━━━━━━━━━━━━━━━━━━\u001b[0m\u001b[37m\u001b[0m \u001b[1m20s\u001b[0m 36ms/step - loss: 0.3333 - rmse: 1.1968 - val_loss: 0.8084 - val_rmse: 1.1099\n",
            "Epoch 6/10\n",
            "\u001b[1m383/383\u001b[0m \u001b[32m━━━━━━━━━━━━━━━━━━━━\u001b[0m\u001b[37m\u001b[0m \u001b[1m14s\u001b[0m 36ms/step - loss: 0.3178 - rmse: 1.2199 - val_loss: 0.8261 - val_rmse: 1.1010\n",
            "Epoch 7/10\n",
            "\u001b[1m383/383\u001b[0m \u001b[32m━━━━━━━━━━━━━━━━━━━━\u001b[0m\u001b[37m\u001b[0m \u001b[1m14s\u001b[0m 36ms/step - loss: 0.3081 - rmse: 1.2081 - val_loss: 0.8067 - val_rmse: 1.0861\n",
            "Epoch 8/10\n",
            "\u001b[1m383/383\u001b[0m \u001b[32m━━━━━━━━━━━━━━━━━━━━\u001b[0m\u001b[37m\u001b[0m \u001b[1m14s\u001b[0m 36ms/step - loss: 0.2895 - rmse: 1.2119 - val_loss: 0.8416 - val_rmse: 1.0977\n",
            "Epoch 9/10\n",
            "\u001b[1m383/383\u001b[0m \u001b[32m━━━━━━━━━━━━━━━━━━━━\u001b[0m\u001b[37m\u001b[0m \u001b[1m14s\u001b[0m 36ms/step - loss: 0.2833 - rmse: 1.2292 - val_loss: 0.8267 - val_rmse: 1.1042\n",
            "Epoch 10/10\n",
            "\u001b[1m383/383\u001b[0m \u001b[32m━━━━━━━━━━━━━━━━━━━━\u001b[0m\u001b[37m\u001b[0m \u001b[1m14s\u001b[0m 36ms/step - loss: 0.2642 - rmse: 1.2241 - val_loss: 0.8382 - val_rmse: 1.1012\n"
          ]
        }
      ]
    },
    {
      "cell_type": "code",
      "source": [
        "# validation set\n",
        "y_val_pred_scaled = model.predict(X_val).flatten()\n",
        "y_val_pred = y_scaler.inverse_transform(y_val_pred_scaled.reshape(-1,1)).flatten()\n",
        "y_val_true = y_scaler.inverse_transform(y_val.reshape(-1,1)).flatten()\n",
        "\n",
        "from sklearn.metrics import mean_squared_error\n",
        "import numpy as np\n",
        "\n",
        "rmse_val = np.sqrt(mean_squared_error(y_val_true, y_val_pred))\n",
        "print(\"Validation RMSE on original scale:\", rmse_val)\n"
      ],
      "metadata": {
        "colab": {
          "base_uri": "https://localhost:8080/"
        },
        "id": "ftiTnQfrNAag",
        "outputId": "d29f3ea7-0b56-45e7-f16a-02ce9d668385"
      },
      "execution_count": null,
      "outputs": [
        {
          "output_type": "stream",
          "name": "stdout",
          "text": [
            "\u001b[1m192/192\u001b[0m \u001b[32m━━━━━━━━━━━━━━━━━━━━\u001b[0m\u001b[37m\u001b[0m \u001b[1m2s\u001b[0m 8ms/step\n",
            "Validation RMSE on original scale: 83.77214409315386\n"
          ]
        }
      ]
    },
    {
      "cell_type": "code",
      "source": [
        "# Prepare test sequences like training\n",
        "test_data = test[feature_cols].values\n",
        "\n",
        "X_test = []\n",
        "for i in range(len(test_data)):\n",
        "    if i < SEQ_LEN:\n",
        "        seq = test_data[:i+1]\n",
        "        pad = np.zeros((SEQ_LEN - seq.shape[0], seq.shape[1]))\n",
        "        seq = np.vstack([pad, seq])\n",
        "    else:\n",
        "        seq = test_data[i-SEQ_LEN+1:i+1]\n",
        "    X_test.append(seq)\n",
        "\n",
        "X_test = np.array(X_test, dtype=np.float32)\n",
        "\n",
        "# Predict\n",
        "y_test_pred_scaled = model.predict(X_test).flatten()\n",
        "y_test_pred = y_scaler.inverse_transform(y_test_pred_scaled.reshape(-1,1)).flatten()\n",
        "\n",
        "# Build submission\n",
        "submission = pd.DataFrame({\n",
        "    \"row ID\": test[\"datetime\"].dt.strftime(\"%Y-%m-%d %-H:%M:%S\"),\n",
        "    \"pm2.5\": y_test_pred\n",
        "})\n",
        "\n",
        "# Save\n",
        "submission.to_csv(\"/content/drive/MyDrive/Time_Series_Assessment/submission.csv\", index=False)\n",
        "print(\"submission saved:\", submission.shape)\n"
      ],
      "metadata": {
        "colab": {
          "base_uri": "https://localhost:8080/"
        },
        "id": "00mrp84-Oeir",
        "outputId": "7180f4c4-ede3-4845-eb45-2f76a24facf8"
      },
      "execution_count": null,
      "outputs": [
        {
          "output_type": "stream",
          "name": "stdout",
          "text": [
            "\u001b[1m411/411\u001b[0m \u001b[32m━━━━━━━━━━━━━━━━━━━━\u001b[0m\u001b[37m\u001b[0m \u001b[1m3s\u001b[0m 7ms/step\n",
            "✅ submission saved: (13148, 2)\n"
          ]
        }
      ]
    }
  ]
}